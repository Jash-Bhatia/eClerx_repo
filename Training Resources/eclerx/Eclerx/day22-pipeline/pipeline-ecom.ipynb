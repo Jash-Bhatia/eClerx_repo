{
 "cells": [
  {
   "cell_type": "code",
   "execution_count": 0,
   "metadata": {
    "application/vnd.databricks.v1+cell": {
     "cellMetadata": {},
     "inputWidgets": {},
     "nuid": "dce51a3d-1f13-47bb-b7b1-2a63f873cb93",
     "showTitle": true,
     "tableResultSettingsMap": {},
     "title": "bronze"
    }
   },
   "outputs": [],
   "source": [
    "-- sales bronze\n",
    "CREATE OR REFRESH STREAMING TABLE sales_dlt\n",
    "AS SELECT *, current_timestamp as ingestion_date FROM STREAM read_files(\n",
    "  \"/Volumes/dev/default/sales\",\n",
    "   format => \"csv\"\n",
    "   );\n",
    "\n",
    "\n",
    "-- customer_bronze\n",
    "CREATE OR REFRESH STREAMING TABLE customers_dlt\n",
    "AS SELECT *, current_timestamp as ingestion_date FROM STREAM read_files(\n",
    "  \"/Volumes/dev/default/customers\",\n",
    "   format => \"csv\"\n",
    "   );\n",
    "\n",
    "\n",
    "-- product_bronze\n",
    "CREATE OR REFRESH STREAMING TABLE products_dlt\n",
    "AS SELECT *, current_timestamp as ingestion_date FROM STREAM read_files(\n",
    "  \"/Volumes/dev/default/products\",\n",
    "   format => \"csv\"\n",
    "   );"
   ]
  },
  {
   "cell_type": "code",
   "execution_count": 0,
   "metadata": {
    "application/vnd.databricks.v1+cell": {
     "cellMetadata": {},
     "inputWidgets": {},
     "nuid": "06753503-e2f7-4545-9727-6b7a23434772",
     "showTitle": false,
     "tableResultSettingsMap": {},
     "title": ""
    }
   },
   "outputs": [],
   "source": [
    "create or refresh streaming table naval_silver.sales_dlt_silver\n",
    "(\n",
    "  CONSTRAINT valid_order_id EXPECT (order_id IS NOT NULL) ON VIOLATION DROP ROW\n",
    ")\n",
    "as\n",
    "\n",
    "select distinct * except (_rescued_data,ingestion_date) from STREAM(sales_dlt)\n"
   ]
  }
 ],
 "metadata": {
  "application/vnd.databricks.v1+notebook": {
   "computePreferences": null,
   "dashboards": [],
   "environmentMetadata": {
    "base_environment": "",
    "environment_version": "2"
   },
   "inputWidgetPreferences": null,
   "language": "sql",
   "notebookMetadata": {
    "pythonIndentUnit": 4
   },
   "notebookName": "pipeline-ecom",
   "widgets": {}
  },
  "language_info": {
   "name": "sql"
  }
 },
 "nbformat": 4,
 "nbformat_minor": 0
}
