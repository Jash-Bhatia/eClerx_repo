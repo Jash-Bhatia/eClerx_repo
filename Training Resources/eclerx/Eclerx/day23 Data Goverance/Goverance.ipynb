{
 "cells": [
  {
   "cell_type": "code",
   "execution_count": 0,
   "metadata": {
    "application/vnd.databricks.v1+cell": {
     "cellMetadata": {},
     "inputWidgets": {},
     "nuid": "e310856b-c9c3-454b-b719-4c0d480fafa3",
     "showTitle": false,
     "tableResultSettingsMap": {},
     "title": ""
    }
   },
   "outputs": [],
   "source": [
    "Data Goverance:\n",
    "    -- Data access control (tables, files)\n",
    "    -- Policies and compliance\n",
    "    -- Data Quality \n",
    "    -- PII\n",
    "    -- \n"
   ]
  },
  {
   "cell_type": "code",
   "execution_count": 0,
   "metadata": {
    "application/vnd.databricks.v1+cell": {
     "cellMetadata": {},
     "inputWidgets": {},
     "nuid": "7a542c79-6347-4148-a816-80ac20e7d7a5",
     "showTitle": false,
     "tableResultSettingsMap": {},
     "title": ""
    }
   },
   "outputs": [],
   "source": [
    "Unity Catalog- Goverance feature\n",
    "1. Data access control (Dynamic Views, Etc)\n",
    "2. Data Lineage (Done)\n",
    "3. Data Discovery (done)\n",
    "4. Data Auditing (Done)\n",
    "5. Data Cataloging (done)\n",
    "6. Data classification(done)"
   ]
  }
 ],
 "metadata": {
  "application/vnd.databricks.v1+notebook": {
   "computePreferences": null,
   "dashboards": [],
   "environmentMetadata": {
    "base_environment": "",
    "environment_version": "2"
   },
   "inputWidgetPreferences": null,
   "language": "python",
   "notebookMetadata": {
    "pythonIndentUnit": 4
   },
   "notebookName": "Goverance",
   "widgets": {}
  },
  "language_info": {
   "name": "python"
  }
 },
 "nbformat": 4,
 "nbformat_minor": 0
}
