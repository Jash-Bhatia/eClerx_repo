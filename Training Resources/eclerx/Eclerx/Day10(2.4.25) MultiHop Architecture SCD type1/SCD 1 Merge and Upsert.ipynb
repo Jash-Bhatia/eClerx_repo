{
 "cells": [
  {
   "cell_type": "code",
   "execution_count": 0,
   "metadata": {
    "application/vnd.databricks.v1+cell": {
     "cellMetadata": {
      "byteLimit": 2048000,
      "rowLimit": 10000
     },
     "inputWidgets": {},
     "nuid": "72e7952a-08cc-4616-9b6e-637bf4056e83",
     "showTitle": true,
     "tableResultSettingsMap": {},
     "title": "PySpark"
    }
   },
   "outputs": [],
   "source": [
    "df=spark.table(\"dev.naval_bronze.sales\")\n",
    "\n",
    "df1=df.dropDuplicates().dropna().drop(\"ingestion_date\")\n",
    "\n",
    "df1.write.mode(\"overwrite\").saveAsTable(\"dev.naval_silver.sales\")"
   ]
  },
  {
   "cell_type": "code",
   "execution_count": 0,
   "metadata": {
    "application/vnd.databricks.v1+cell": {
     "cellMetadata": {
      "byteLimit": 2048000,
      "implicitDf": true,
      "rowLimit": 10000
     },
     "inputWidgets": {},
     "nuid": "13b10c79-b415-43b8-87b0-3df4f433c9ec",
     "showTitle": true,
     "tableResultSettingsMap": {},
     "title": "SQL"
    }
   },
   "outputs": [],
   "source": [
    "%sql\n",
    "--create or replace table dev.naval_silver.sales as (select distinct * from dev.naval_bronze.sales where order_id is not null )"
   ]
  },
  {
   "cell_type": "code",
   "execution_count": 0,
   "metadata": {
    "application/vnd.databricks.v1+cell": {
     "cellMetadata": {
      "byteLimit": 2048000,
      "implicitDf": true,
      "rowLimit": 10000
     },
     "inputWidgets": {},
     "nuid": "f0174ea8-d239-42b3-8f0b-9456a9013a15",
     "showTitle": false,
     "tableResultSettingsMap": {},
     "title": ""
    }
   },
   "outputs": [],
   "source": [
    "%sql\n",
    "select * from dev.naval_silver.sales"
   ]
  },
  {
   "cell_type": "code",
   "execution_count": 0,
   "metadata": {
    "application/vnd.databricks.v1+cell": {
     "cellMetadata": {
      "byteLimit": 2048000,
      "implicitDf": true,
      "rowLimit": 10000
     },
     "inputWidgets": {},
     "nuid": "a4db9127-2e21-465e-86bd-fc89a7b7e662",
     "showTitle": false,
     "tableResultSettingsMap": {},
     "title": ""
    }
   },
   "outputs": [],
   "source": [
    "%sql\n",
    "select * from dev.naval_bronze.customers"
   ]
  },
  {
   "cell_type": "code",
   "execution_count": 0,
   "metadata": {
    "application/vnd.databricks.v1+cell": {
     "cellMetadata": {
      "byteLimit": 2048000,
      "implicitDf": true,
      "rowLimit": 10000
     },
     "inputWidgets": {},
     "nuid": "3c0a014e-4e89-4782-9447-dbf7b135830f",
     "showTitle": false,
     "tableResultSettingsMap": {},
     "title": ""
    }
   },
   "outputs": [],
   "source": [
    "%sql\n",
    "create table if not exists dev.shirin_bronze.customers_sample (customer_id INT, customer_name STRING, customer_email STRING, customer_city STRING, customer_state STRING)\n"
   ]
  },
  {
   "cell_type": "code",
   "execution_count": 0,
   "metadata": {
    "application/vnd.databricks.v1+cell": {
     "cellMetadata": {
      "byteLimit": 2048000,
      "implicitDf": true,
      "rowLimit": 10000
     },
     "inputWidgets": {},
     "nuid": "92f0beba-5c42-432d-9529-c4e564eced0b",
     "showTitle": false,
     "tableResultSettingsMap": {},
     "title": ""
    }
   },
   "outputs": [],
   "source": [
    "%sql\n",
    "update dev.shirin_bronze.customers_sample\n",
    "SET customer_city='Pune' where customer_id= 2"
   ]
  },
  {
   "cell_type": "code",
   "execution_count": 0,
   "metadata": {
    "application/vnd.databricks.v1+cell": {
     "cellMetadata": {
      "byteLimit": 2048000,
      "implicitDf": true,
      "rowLimit": 10000
     },
     "inputWidgets": {},
     "nuid": "287c8e33-6b62-4ca9-aee1-be7d262f407d",
     "showTitle": false,
     "tableResultSettingsMap": {},
     "title": ""
    }
   },
   "outputs": [],
   "source": [
    "%sql\n",
    "insert into dev.shirin_bronze.customers_sample values(3,'Naval','john@gmail.com','New York','NY'),(4,'Aditya','robert@gmail.com','Mumbai','India')"
   ]
  },
  {
   "cell_type": "code",
   "execution_count": 0,
   "metadata": {
    "application/vnd.databricks.v1+cell": {
     "cellMetadata": {
      "byteLimit": 2048000,
      "implicitDf": true,
      "rowLimit": 10000
     },
     "inputWidgets": {},
     "nuid": "c5251e1a-97cb-4c16-979a-1886215414f6",
     "showTitle": false,
     "tableResultSettingsMap": {},
     "title": ""
    }
   },
   "outputs": [],
   "source": [
    "%sql\n",
    "select * from dev.shirin_bronze.customers_sample"
   ]
  },
  {
   "cell_type": "code",
   "execution_count": 0,
   "metadata": {
    "application/vnd.databricks.v1+cell": {
     "cellMetadata": {
      "byteLimit": 2048000,
      "implicitDf": true,
      "rowLimit": 10000
     },
     "inputWidgets": {},
     "nuid": "57e9bb8a-3609-4e81-b338-3c6f41572155",
     "showTitle": false,
     "tableResultSettingsMap": {},
     "title": ""
    }
   },
   "outputs": [],
   "source": [
    "%sql\n",
    "create table if not exists dev.shirin_silver.customers_sample (customer_id INT, customer_name STRING, customer_email STRING, customer_city STRING, customer_state STRING)"
   ]
  },
  {
   "cell_type": "code",
   "execution_count": 0,
   "metadata": {
    "application/vnd.databricks.v1+cell": {
     "cellMetadata": {
      "byteLimit": 2048000,
      "implicitDf": true,
      "rowLimit": 10000
     },
     "inputWidgets": {},
     "nuid": "e606f504-215f-4cd0-a237-42420e94c81d",
     "showTitle": false,
     "tableResultSettingsMap": {},
     "title": ""
    }
   },
   "outputs": [],
   "source": [
    "%sql\n",
    "select * from dev.shirin_silver.customers_sample"
   ]
  },
  {
   "cell_type": "code",
   "execution_count": 0,
   "metadata": {
    "application/vnd.databricks.v1+cell": {
     "cellMetadata": {
      "byteLimit": 2048000,
      "implicitDf": true,
      "rowLimit": 10000
     },
     "inputWidgets": {},
     "nuid": "c619355b-6e6a-4065-af44-05373a482387",
     "showTitle": false,
     "tableResultSettingsMap": {},
     "title": ""
    }
   },
   "outputs": [],
   "source": [
    "%sql\n",
    "MERGE INTO dev.shirin_silver.customers_sample as cs\n",
    "USING dev.shirin_bronze.customers_sample as cb\n",
    "ON cs.customer_id = cb.customer_id \n",
    "WHEN MATCHED THEN\n",
    "  UPDATE SET\n",
    "  cs.customer_name = cb.customer_name,\n",
    "  cs.customer_email = cb.customer_email,\n",
    "  cs.customer_city = cb.customer_city,\n",
    "  cs.customer_state = cb.customer_state\n",
    "WHEN NOT MATCHED\n",
    "  THEN INSERT (\n",
    "  cs.customer_id,\n",
    "  cs.customer_name,\n",
    "  cs.customer_email,\n",
    "  cs.customer_city,\n",
    "  cs.customer_state\n",
    "  )\n",
    "  VALUES (\n",
    "    cb.customer_id,\n",
    "    cb.customer_name,\n",
    "    cb.customer_email,\n",
    "    cb.customer_city,\n",
    "    cb.customer_state\n",
    "  )"
   ]
  },
  {
   "cell_type": "code",
   "execution_count": 0,
   "metadata": {
    "application/vnd.databricks.v1+cell": {
     "cellMetadata": {},
     "inputWidgets": {},
     "nuid": "1a154e38-e7ea-4625-b67a-cfcdcc44f97d",
     "showTitle": false,
     "tableResultSettingsMap": {},
     "title": ""
    }
   },
   "outputs": [],
   "source": []
  }
 ],
 "metadata": {
  "application/vnd.databricks.v1+notebook": {
   "computePreferences": null,
   "dashboards": [],
   "environmentMetadata": {
    "base_environment": "",
    "environment_version": "2"
   },
   "inputWidgetPreferences": null,
   "language": "python",
   "notebookMetadata": {
    "mostRecentlyExecutedCommandWithImplicitDF": {
     "commandId": 2873262285201698,
     "dataframes": [
      "_sqldf"
     ]
    },
    "pythonIndentUnit": 4
   },
   "notebookName": "SCD 1 Merge and Upsert",
   "widgets": {}
  },
  "language_info": {
   "name": "python"
  }
 },
 "nbformat": 4,
 "nbformat_minor": 0
}
