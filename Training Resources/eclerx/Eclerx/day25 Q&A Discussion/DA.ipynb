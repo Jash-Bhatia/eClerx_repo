{
 "cells": [
  {
   "cell_type": "code",
   "execution_count": 0,
   "metadata": {
    "application/vnd.databricks.v1+cell": {
     "cellMetadata": {},
     "inputWidgets": {},
     "nuid": "e2f971f2-8999-41d5-ae7a-718fd087196e",
     "showTitle": false,
     "tableResultSettingsMap": {},
     "title": ""
    }
   },
   "outputs": [],
   "source": [
    "\n",
    "Question: Which of the following layers of the medallion architecture is most commonly used by data analysts?\n",
    "A. None of these layers are used by data analysts\n",
    "B. Gold\n",
    "C. All of these layers are used equally by data analysts\n",
    "D. Silver\n",
    "E. Bronze\n",
    "\n",
    "Answer: B\n"
   ]
  },
  {
   "cell_type": "code",
   "execution_count": 0,
   "metadata": {
    "application/vnd.databricks.v1+cell": {
     "cellMetadata": {},
     "inputWidgets": {},
     "nuid": "79acd3a1-e046-489e-958d-85b92c4eaabc",
     "showTitle": false,
     "tableResultSettingsMap": {},
     "title": ""
    }
   },
   "outputs": [],
   "source": [
    "Q. Which of the following describes how Databricks SQL should be used in relation to other business intelligence (BI) tools like Tableau, Power BI, and looker?\n",
    "\n",
    "A. As an exact substitute with the same level of functionality(No)\n",
    "B. As a substitute with less functionality \n",
    "C. As a complete replacement with additional functionality(No)\n",
    "D. As a complementary tool for professional-grade presentations\n",
    "E. As a complementary tool for quick in-platform BI work\n",
    "\n",
    "Answer : E"
   ]
  },
  {
   "cell_type": "code",
   "execution_count": 0,
   "metadata": {
    "application/vnd.databricks.v1+cell": {
     "cellMetadata": {},
     "inputWidgets": {},
     "nuid": "c2bce1ef-4d3b-4cfe-b254-f495443262f2",
     "showTitle": false,
     "tableResultSettingsMap": {},
     "title": ""
    }
   },
   "outputs": [],
   "source": [
    "cta \n",
    "select * from json.`path`\n"
   ]
  },
  {
   "cell_type": "code",
   "execution_count": 0,
   "metadata": {
    "application/vnd.databricks.v1+cell": {
     "cellMetadata": {},
     "inputWidgets": {},
     "nuid": "99fde61f-7f53-43e6-9b25-b8acb866b6e6",
     "showTitle": false,
     "tableResultSettingsMap": {},
     "title": ""
    }
   },
   "outputs": [],
   "source": [
    "Q.Which of the following approaches can be used to ingest data directly from cloud-based object storage? \n",
    "A. Create an external table while specifying the DBFS storage path to FROM\n",
    "B. Create an external table while specifying the DBFS storage path to PATH\n",
    "C. It is not possible to directly ingest data from cloud-based object storage(NO)\n",
    "D. Create an external table while specifying the object storage path to FROM\n",
    "E. Create an external table while specifying the object storage path to LOCATION\n",
    "\n",
    "Answer: E"
   ]
  },
  {
   "cell_type": "code",
   "execution_count": 0,
   "metadata": {
    "application/vnd.databricks.v1+cell": {
     "cellMetadata": {},
     "inputWidgets": {},
     "nuid": "28990137-4659-452a-ae0b-edb9942457ee",
     "showTitle": false,
     "tableResultSettingsMap": {},
     "title": ""
    }
   },
   "outputs": [],
   "source": [
    "Q.A data analyst is attempting to drop a table my_table. The analyst wants to delete all table metadata and data.\n",
    "They run the following command:\n",
    "DROP TABLE IF EXISTS my_table;\n",
    "While the object no longer appears when they run SHOW TABLES, the data files still exist.\n",
    "Which of the following describes why the data files still exist and the metadata files were deleted?\n",
    "\n",
    "A. The table's data was larger than 10 GB\n",
    "B. The table did not have a location\n",
    "C. The table was external \n",
    "D. The table's data was smaller than 10 GB\n",
    "E. The table was managed\n",
    "\n",
    "Answer: C"
   ]
  },
  {
   "cell_type": "code",
   "execution_count": 0,
   "metadata": {
    "application/vnd.databricks.v1+cell": {
     "cellMetadata": {},
     "inputWidgets": {},
     "nuid": "b09dd7aa-e1d4-4cee-9c71-1a54f8b43bbe",
     "showTitle": false,
     "tableResultSettingsMap": {},
     "title": ""
    }
   },
   "outputs": [],
   "source": [
    "Q. Which of the following benefits of using Databricks SQL is provided by Data Explorer? \n",
    "\n",
    "A. It can be used to run UPDATE queries to update any tables in a database.(NO)\n",
    "B. It can be used to view metadata and data, as well as view/change permissions. (YES)\n",
    "C. It can be used to produce dashboards that allow data exploration. (Yes)\n",
    "D. It can be used to make visualizations that can be shared with stakeholders.(no)\n",
    "E. It can be used to connect to third party BI tools. (yes)\n",
    "\n",
    "answer: B"
   ]
  },
  {
   "cell_type": "code",
   "execution_count": 0,
   "metadata": {
    "application/vnd.databricks.v1+cell": {
     "cellMetadata": {},
     "inputWidgets": {},
     "nuid": "91aa1608-c705-4046-ac6b-b03fd47cb922",
     "showTitle": false,
     "tableResultSettingsMap": {},
     "title": ""
    }
   },
   "outputs": [],
   "source": [
    "Q. Consider the following two statements:\n",
    "Statement 1:\n",
    "select * from customers left semi join orders on customers.customer_id= orders.customer_id\n",
    "\n",
    "Statement 2:\n",
    "select * from customers left anti join orders on customers.customer_id= orders.customer_id\n",
    "\n",
    "Which of the following describes how the result sets will differ for each statement when they are run in Databricks SQL?\n",
    "\n",
    "A. The first statement will return all data from the customers table and matching data from the orders table. The second statement will return all data from the orders table and matching data from the customers table. Any missing data will be filled in with NULL.\n",
    "\n",
    "B. When the first statement is run, only rows from the customers table that have at least one match with the orders table on customer_id will be returned. When the second statement is run, only those rows in the customers table that do not have at least one match with the orders table on customer_id will be returned.\n",
    "\n",
    "C. There is no difference between the result sets for both statements.(no)\n",
    "\n",
    "D. Both statements will fail because Databricks SQL does not support those join types. (NO)\n",
    "\n",
    "E. When the first statement is run, all rows from the customers table will be returned and only the customer_id from the orders table will be returned. When the second statement is run, only those rows in the customers table that do not have at least one match with the orders table on customer_id will be returned.\n",
    "\n",
    "\n",
    "Answer: B"
   ]
  },
  {
   "cell_type": "code",
   "execution_count": 0,
   "metadata": {
    "application/vnd.databricks.v1+cell": {
     "cellMetadata": {},
     "inputWidgets": {},
     "nuid": "3907fd86-1f56-4c45-aee5-5e047e62cb02",
     "showTitle": false,
     "tableResultSettingsMap": {},
     "title": ""
    }
   },
   "outputs": [],
   "source": [
    "\n",
    "Left Semi Join: Returns only columns from left DataFrame for rows where there is a match in right DataFrame. \n",
    "Left Anti Join: Returns only columns from left DataFrame for rows where there is no match in right DataFrame."
   ]
  },
  {
   "cell_type": "code",
   "execution_count": 0,
   "metadata": {
    "application/vnd.databricks.v1+cell": {
     "cellMetadata": {},
     "inputWidgets": {},
     "nuid": "53279044-b8ac-4d5f-81ff-7b2baeffaafe",
     "showTitle": false,
     "tableResultSettingsMap": {},
     "title": ""
    }
   },
   "outputs": [],
   "source": [
    "\n",
    "Q. A data team has been given a series of projects by a consultant that need to be implemented in the Databricks Lakehouse Platform.\n",
    "Which of the following projects should be completed in Databricks SQL?\n",
    "\n",
    "A. Testing the quality of data as it is imported from a source (NO)\n",
    "B. Tracking usage of feature variables for machine learning projects (NO)\n",
    "C. Combining two data sources into a single, comprehensive dataset \n",
    "D. Segmenting customers into like groups using a clustering algorithm (No)\n",
    "E. Automating complex notebook-based workflows with multiple tasks (no)\n",
    "\n",
    "Answer: C"
   ]
  },
  {
   "cell_type": "code",
   "execution_count": 0,
   "metadata": {
    "application/vnd.databricks.v1+cell": {
     "cellMetadata": {},
     "inputWidgets": {},
     "nuid": "bdfd9959-2e98-491f-8440-e376572ce0e1",
     "showTitle": false,
     "tableResultSettingsMap": {},
     "title": ""
    }
   },
   "outputs": [],
   "source": [
    "Q. Which statement about a refresh schedule is incorrect?\n",
    "D. A refresh schedule is not the same as an alert. ( no)\n",
    "A. A query can be refreshed anywhere from 1 minute to 2 weeks.  (NO)\n",
    "E. You must have workspace administrator privileges to configure a refresh schedule.(NO)\n",
    "B. Refresh schedules can be configured in the Query Editor.\t\n",
    "C. A query being refreshed on a schedule does not use a SQL Warehouse (formerly known as SQL\n",
    "                                                                       \n",
    "Answer: C"
   ]
  },
  {
   "cell_type": "code",
   "execution_count": 0,
   "metadata": {
    "application/vnd.databricks.v1+cell": {
     "cellMetadata": {},
     "inputWidgets": {},
     "nuid": "9e682212-6b6a-45cb-943c-b4a8bbc7dd6a",
     "showTitle": false,
     "tableResultSettingsMap": {},
     "title": ""
    }
   },
   "outputs": [],
   "source": [
    "\n",
    "A data analyst needs to use the Databricks Lakehouse Platform to quickly create SQL queries and data visualizations. The platform should support serverless compute resources and allow data visualizations to be placed within a dashboard.\n",
    "Which of the following Databricks Lakehouse Platform services or capabilities meets all of these requirements? (1 point)\n",
    "1. Databricks ML\n",
    "2. Databricks Notebook\n",
    "3. Dela Lake\n",
    "4. Databricks SQL\n",
    "\n"
   ]
  },
  {
   "cell_type": "code",
   "execution_count": 0,
   "metadata": {
    "application/vnd.databricks.v1+cell": {
     "cellMetadata": {},
     "inputWidgets": {},
     "nuid": "b3634606-69e4-42a1-b75e-ed8e02627701",
     "showTitle": false,
     "tableResultSettingsMap": {},
     "title": ""
    }
   },
   "outputs": [],
   "source": [
    "Which of the following approaches can be used to connect Databricks to Fivetran for data ingestion? \n",
    "\n",
    "A. Use Workflows to establish a SQL warehouse (formerly known as a SQL endpoint) for Fivetran to interact with\n",
    "B. Use Delta Live Tables to establish a cluster for Fivetran to interact with\n",
    "C. Use Partner Connect's automated workflow to establish a cluster for Fivetran to interact with\n",
    "D. Use Partner Connect's automated workflow to establish a SQL warehouse (formerly known as a SQL endpoint) for Fivetran to interact with\n",
    "E. Use Workflows to establish a cluster for Fivetran to interact with\n",
    "\n",
    "\n",
    "Answer D"
   ]
  },
  {
   "cell_type": "code",
   "execution_count": 0,
   "metadata": {
    "application/vnd.databricks.v1+cell": {
     "cellMetadata": {},
     "inputWidgets": {},
     "nuid": "c59041a2-75bd-4922-858e-8120583b202b",
     "showTitle": false,
     "tableResultSettingsMap": {},
     "title": ""
    }
   },
   "outputs": [],
   "source": [
    "Q. A data engineering team has created a Structured Streaming pipeline that processes data in micro-batches and populates gold-level tables. The microbatches are triggered every minute.\n",
    "A data analyst has created a dashboard based on this gold-level data. The project stakeholders want to see the results in the dashboard updated within one minute or less of new data becoming available within the gold-level tables.\n",
    "Which of the following cautions should the data analyst share prior to setting up the dashboard to complete this task?\n",
    "A. The required compute resources could be costly\t\n",
    "B. The gold-level tables are not appropriately clean for business reporting\n",
    "C. The streaming data is not an appropriate data source for a dashboard\n",
    "D. The streaming cluster is not fault tolerant\n",
    "E. The dashboard cannot be refreshed that quickly\n",
    "\n",
    "answer: A"
   ]
  },
  {
   "cell_type": "code",
   "execution_count": 0,
   "metadata": {
    "application/vnd.databricks.v1+cell": {
     "cellMetadata": {},
     "inputWidgets": {},
     "nuid": "d406cc1e-618a-4202-b4a7-17ecfce279bf",
     "showTitle": false,
     "tableResultSettingsMap": {},
     "title": ""
    }
   },
   "outputs": [],
   "source": [
    "A data analyst wants to create a dashboard with three main sections: Development, Testing, and Production. They want all three sections on the same dashboard, but they want to clearly designate the sections using text on the dashboard.\n",
    "Which of the following tools can the data analyst use to designate the Development, Testing, and Production sections using text?\n",
    "\n",
    "A. Separate endpoints for each section\n",
    "B. Separate queries for each section\n",
    "C. Markdown-based text boxes (Yes)\n",
    "D. Direct text written into the dashboard in editing mode\n",
    "E. Separate color palettes for each section\n",
    "\n",
    "answer: C"
   ]
  },
  {
   "cell_type": "code",
   "execution_count": 0,
   "metadata": {
    "application/vnd.databricks.v1+cell": {
     "cellMetadata": {},
     "inputWidgets": {},
     "nuid": "1599138e-1e64-4da1-aadc-bc60e0106b95",
     "showTitle": false,
     "tableResultSettingsMap": {},
     "title": ""
    }
   },
   "outputs": [],
   "source": [
    "Delta Lake stores table data as a series of data files, but it also stores a lot of other information.\n",
    "Which of the following is stored alongside data files when using Delta Lake? \n",
    "A. None of these\n",
    "B. Table metadata, data summary visualizations, and owner account information\n",
    "C. Table metadata\n",
    "D. Data summary visualizations\n",
    "E. Owner account information\n",
    "\n",
    "answer : C"
   ]
  },
  {
   "cell_type": "code",
   "execution_count": 0,
   "metadata": {
    "application/vnd.databricks.v1+cell": {
     "cellMetadata": {},
     "inputWidgets": {},
     "nuid": "5739bfec-5377-410d-a9a6-6712cd1fdd33",
     "showTitle": false,
     "tableResultSettingsMap": {},
     "title": ""
    }
   },
   "outputs": [],
   "source": [
    "A team of engineers in a data organization is building data pipelines using Delta Live Tables within the medallion architecture. The data analysis team, using the gold-layer tables from these pipelines, needs to carry out further processing of these tables before conducting their analysis.\n",
    "\n",
    "What term best describes this additional processing?\n",
    "\n",
    "A. Data blending\n",
    "B. Final dashboarding\n",
    "E. Data enrichment\n",
    "D. Final ETL\n",
    "C. Data testing"
   ]
  },
  {
   "cell_type": "code",
   "execution_count": 0,
   "metadata": {
    "application/vnd.databricks.v1+cell": {
     "cellMetadata": {},
     "inputWidgets": {},
     "nuid": "53c9aa3c-aaab-4544-953b-23c41b63eb2f",
     "showTitle": false,
     "tableResultSettingsMap": {},
     "title": ""
    }
   },
   "outputs": [],
   "source": [
    "A data analyst is working with gold-layer tables to complete an ad-hoc project. A stakeholder has provided the analyst with an additional dataset that can be used to augment the gold-layer tables already in use.\n",
    "Which of the following terms is used to describe this data augmentation?\n",
    "\n",
    "A. Data testing\n",
    "B. data enhancement\n",
    "Answer: B"
   ]
  },
  {
   "cell_type": "code",
   "execution_count": 0,
   "metadata": {
    "application/vnd.databricks.v1+cell": {
     "cellMetadata": {},
     "inputWidgets": {},
     "nuid": "85894251-fdae-49bb-8ef4-5ffa9f53c407",
     "showTitle": false,
     "tableResultSettingsMap": {},
     "title": ""
    }
   },
   "outputs": [],
   "source": [
    "A data analyst is using gold-layer tables for an on-the-spot project. A stakeholder has given the analyst an extra dataset to enhance the existing gold-layer tables.\n",
    "Which term describes this type of data enhancement?\n",
    "D. Final ETL\n",
    "A. Data testing\n",
    "C. Final dashboarding\n",
    "B. On-the-spot improvements\n",
    "E. Data enrichment\n",
    "\n",
    "answer: E"
   ]
  },
  {
   "cell_type": "code",
   "execution_count": 0,
   "metadata": {
    "application/vnd.databricks.v1+cell": {
     "cellMetadata": {},
     "inputWidgets": {},
     "nuid": "68e898c3-6117-419b-b821-0cf7dba6e29c",
     "showTitle": false,
     "tableResultSettingsMap": {},
     "title": ""
    }
   },
   "outputs": [],
   "source": [
    "An engineering manager wants to monitor the performance of a recent project using a Databricks SQL query. For the first week following the project’s release, the manager wants the query results to be updated every minute. However, the manager is concerned that the compute resources used for the query will be left running and cost the organization a lot of money beyond the first week of the project’s release.\n",
    "Which of the following approaches can the engineering team use to ensure the query does not cost the organization any money beyond the first week of the project’s release?\n",
    "\n",
    "A. They can set a limit to the number of DBUs that are consumed by the SQL Endpoint.\n",
    "B. They can set the query’s refresh schedule to end after a certain number of refreshes.\n",
    "C. They cannot ensure the query does not cost the organization money beyond the first week of the project’s release.\n",
    "D. They can set a limit to the number of individuals that are able to manage the query’s refresh schedule.\n",
    "E. They can set the query’s refresh schedule to end on a certain date in the query scheduler."
   ]
  }
 ],
 "metadata": {
  "application/vnd.databricks.v1+notebook": {
   "computePreferences": null,
   "dashboards": [],
   "environmentMetadata": {
    "base_environment": "",
    "environment_version": "2"
   },
   "inputWidgetPreferences": null,
   "language": "python",
   "notebookMetadata": {
    "pythonIndentUnit": 4
   },
   "notebookName": "DA",
   "widgets": {}
  },
  "language_info": {
   "name": "python"
  }
 },
 "nbformat": 4,
 "nbformat_minor": 0
}
