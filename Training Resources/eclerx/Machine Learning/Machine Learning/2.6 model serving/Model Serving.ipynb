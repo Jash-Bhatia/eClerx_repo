{
 "cells": [
  {
   "cell_type": "code",
   "execution_count": 0,
   "metadata": {
    "application/vnd.databricks.v1+cell": {
     "cellMetadata": {
      "byteLimit": 2048000,
      "rowLimit": 10000
     },
     "inputWidgets": {},
     "nuid": "e68e06ca-8c2f-4080-8ac6-ccfae8792f5f",
     "showTitle": false,
     "tableResultSettingsMap": {},
     "title": ""
    }
   },
   "outputs": [],
   "source": [
    "import mlflow\n",
    "import mlflow.sklearn\n",
    "from sklearn.linear_model import LinearRegression\n",
    "from sklearn.model_selection import train_test_split\n",
    "from sklearn.metrics import mean_squared_error\n",
    "import pandas as pd\n",
    "\n",
    "# Load data\n",
    "pdf = pd.read_csv(\"/databricks-datasets/wine-quality/winequality-red.csv\",sep=\";\")\n",
    "X = pdf.drop(\"quality\", axis=1)\n",
    "y = pdf[\"quality\"]\n",
    "X_train, X_test, y_train, y_test = train_test_split(X, y, random_state=42)\n",
    "\n",
    "model = LinearRegression()\n",
    "model.fit(X_train, y_train)\n",
    "\n",
    "# Predict and get metrics\n",
    "preds = model.predict(X_test)\n",
    "rmse = mean_squared_error(y_test, preds, squared=False)\n",
    "\n",
    "# Define conda env explicitly\n",
    "conda_env = {\n",
    "    \"name\": \"mlflow-env\",\n",
    "    \"channels\": [\"defaults\"],\n",
    "    \"dependencies\": [\n",
    "        \"python=3.11\",\n",
    "        \"scikit-learn=1.3.0\",\n",
    "        \"pip\",\n",
    "        {\n",
    "            \"pip\": [\"mlflow\"]\n",
    "        }\n",
    "    ]\n",
    "}\n",
    "\n",
    "import mlflow.models\n",
    "from mlflow.models.signature import infer_signature\n",
    "\n",
    "signature = infer_signature(X_test, preds)\n",
    "\n",
    "mlflow.set_registry_uri(\"databricks-uc\")\n",
    "\n",
    "with mlflow.start_run() as run:\n",
    "    mlflow.sklearn.log_model(\n",
    "        sk_model=model,\n",
    "        artifact_path=\"model\",\n",
    "        conda_env=conda_env,\n",
    "        signature=signature,\n",
    "        registered_model_name=\"ml.naval.wine_quality_model_uc\"\n",
    "    )\n"
   ]
  }
 ],
 "metadata": {
  "application/vnd.databricks.v1+notebook": {
   "computePreferences": null,
   "dashboards": [],
   "environmentMetadata": {
    "base_environment": "",
    "environment_version": "2"
   },
   "inputWidgetPreferences": null,
   "language": "python",
   "notebookMetadata": {
    "pythonIndentUnit": 4
   },
   "notebookName": "Model Serving",
   "widgets": {}
  },
  "language_info": {
   "name": "python"
  }
 },
 "nbformat": 4,
 "nbformat_minor": 0
}
