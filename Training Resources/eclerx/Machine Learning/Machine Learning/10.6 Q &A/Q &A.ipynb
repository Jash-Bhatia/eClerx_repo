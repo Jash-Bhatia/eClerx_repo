{
 "cells": [
  {
   "cell_type": "code",
   "execution_count": 0,
   "metadata": {
    "application/vnd.databricks.v1+cell": {
     "cellMetadata": {},
     "inputWidgets": {},
     "nuid": "3c07a443-aac6-4034-aed3-4d229e00eb41",
     "showTitle": false,
     "tableResultSettingsMap": {},
     "title": ""
    }
   },
   "outputs": [],
   "source": [
    "A data scientist uses 3-fold cross-validation when optimizing model\n",
    "hyperparameters for a regression problem. The following root-mean-squared-error\n",
    "values are calculated on each of the validation folds:\n",
    "• 10.0\n",
    "• 12.0\n",
    "• 17.0\n",
    "Which of the following values represents the overall cross-validation root-mean-squared\n",
    "error?\n",
    "\n",
    "A. 13.0\n",
    "B. 17.0\n",
    "C. 12.0\n",
    "D. 39.0\n",
    "E. 10.0\n",
    "\n",
    "\n",
    "10+12+17/3 = 12\n",
    "answer: a\n"
   ]
  },
  {
   "cell_type": "code",
   "execution_count": 0,
   "metadata": {
    "application/vnd.databricks.v1+cell": {
     "cellMetadata": {},
     "inputWidgets": {},
     "nuid": "00795d68-8c7a-4c3d-923d-bce0388af68a",
     "showTitle": false,
     "tableResultSettingsMap": {},
     "title": ""
    }
   },
   "outputs": [],
   "source": [
    "A data scientist is attempting to tune a logistic regression model logistic using\n",
    "scikit-learn. They want to specify a search space for two hyperparameters and let the\n",
    "tuning process randomly select values for each evaluation.\n",
    "They attempt to run the following code block, but it does not accomplish the desired\n",
    "task:\n",
    "distributions = dict (C-uniforn(loc=0, scale=4), penalty=['12', '11'])\n",
    "clf = GridSearchCV (logistic, distributions, randon_ state=0)\n",
    "search = clf. fit (feature_data, target_data)  \n",
    "\n",
    "\n",
    "Which of the following changes can the data scientist make to accomplish the task?\n",
    "A. Replace the GridSearchCV operation with RandomizedSearchCV\n",
    "B. Replace the GridSearchCV operation with cross_validate\n",
    "C. Replace the GridSearchCV operation with ParameterGrid\n",
    "D. Replace the random_state=0 argument with random_state=1\n",
    "E. Replace the penalty= ['12', '11'] argument with penalty=uniform ('l2', '11')\n",
    "                                                                    \n",
    "Answer: C"
   ]
  }
 ],
 "metadata": {
  "application/vnd.databricks.v1+notebook": {
   "computePreferences": null,
   "dashboards": [],
   "environmentMetadata": {
    "base_environment": "",
    "environment_version": "2"
   },
   "inputWidgetPreferences": null,
   "language": "python",
   "notebookMetadata": {
    "pythonIndentUnit": 4
   },
   "notebookName": "Q &A",
   "widgets": {}
  },
  "language_info": {
   "name": "python"
  }
 },
 "nbformat": 4,
 "nbformat_minor": 0
}
