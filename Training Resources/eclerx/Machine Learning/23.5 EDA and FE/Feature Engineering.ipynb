{
 "cells": [
  {
   "cell_type": "code",
   "execution_count": 0,
   "metadata": {
    "application/vnd.databricks.v1+cell": {
     "cellMetadata": {
      "byteLimit": 2048000,
      "rowLimit": 10000
     },
     "inputWidgets": {},
     "nuid": "ab04685f-daed-446e-b1ab-66459d3f58e2",
     "showTitle": false,
     "tableResultSettingsMap": {},
     "title": ""
    }
   },
   "outputs": [],
   "source": [
    "from pyspark.sql.functions import *\n",
    "from pyspark.sql.types import *\n",
    "import numpy as np\n",
    "import pandas as pd"
   ]
  },
  {
   "cell_type": "code",
   "execution_count": 0,
   "metadata": {
    "application/vnd.databricks.v1+cell": {
     "cellMetadata": {
      "byteLimit": 2048000,
      "rowLimit": 10000
     },
     "inputWidgets": {},
     "nuid": "8ab938d1-78d7-4fc3-9698-b8bd48542ca5",
     "showTitle": false,
     "tableResultSettingsMap": {},
     "title": ""
    }
   },
   "outputs": [],
   "source": [
    "input_path=\"/Volumes/ml/default/raw/housing.csv\""
   ]
  },
  {
   "cell_type": "code",
   "execution_count": 0,
   "metadata": {
    "application/vnd.databricks.v1+cell": {
     "cellMetadata": {
      "byteLimit": 2048000,
      "rowLimit": 10000
     },
     "inputWidgets": {},
     "nuid": "4d0b5d87-98d0-4fc4-ad84-6c876d9eb6eb",
     "showTitle": false,
     "tableResultSettingsMap": {},
     "title": ""
    }
   },
   "outputs": [],
   "source": [
    "users_schema=StructType([StructField(\"longitude\",DoubleType(),True),\n",
    "                         StructField(\"latitude\",DoubleType(),True),\n",
    "                         StructField(\"housing_median_age\",DoubleType(),True),\n",
    "                         StructField(\"total_rooms\",DoubleType(),True),\n",
    "                         StructField(\"total_bedrooms\",DoubleType(),True),\n",
    "                         StructField(\"population\",DoubleType(),True),\n",
    "                         StructField(\"households\",DoubleType(),True),\n",
    "                         StructField(\"median_income\",DoubleType(),True),\n",
    "                         StructField(\"median_house_value\",DoubleType(),True),\n",
    "                         StructField(\"ocean_proximity\",StringType(),True)          \n",
    "])"
   ]
  },
  {
   "cell_type": "code",
   "execution_count": 0,
   "metadata": {
    "application/vnd.databricks.v1+cell": {
     "cellMetadata": {
      "byteLimit": 2048000,
      "rowLimit": 10000
     },
     "inputWidgets": {},
     "nuid": "5e84930a-1a1d-4b58-b286-0710522e8120",
     "showTitle": false,
     "tableResultSettingsMap": {},
     "title": ""
    }
   },
   "outputs": [],
   "source": [
    "df=spark.read.csv(input_path,header=True,schema=users_schema)\n",
    "df=df.toPandas()"
   ]
  },
  {
   "cell_type": "markdown",
   "metadata": {
    "application/vnd.databricks.v1+cell": {
     "cellMetadata": {},
     "inputWidgets": {},
     "nuid": "40199747-9737-433e-99d8-bf1df50a357b",
     "showTitle": false,
     "tableResultSettingsMap": {},
     "title": ""
    }
   },
   "source": [
    "### 1. Missing value imputation"
   ]
  },
  {
   "cell_type": "code",
   "execution_count": 0,
   "metadata": {
    "application/vnd.databricks.v1+cell": {
     "cellMetadata": {
      "byteLimit": 2048000,
      "rowLimit": 10000
     },
     "inputWidgets": {},
     "nuid": "fc3007da-17cc-4767-a374-5dab7b2eea8e",
     "showTitle": false,
     "tableResultSettingsMap": {},
     "title": ""
    }
   },
   "outputs": [],
   "source": [
    "df.isnull().sum()"
   ]
  },
  {
   "cell_type": "code",
   "execution_count": 0,
   "metadata": {
    "application/vnd.databricks.v1+cell": {
     "cellMetadata": {
      "byteLimit": 2048000,
      "rowLimit": 10000
     },
     "inputWidgets": {},
     "nuid": "03e6b527-309e-4878-8767-33d449e95790",
     "showTitle": false,
     "tableResultSettingsMap": {},
     "title": ""
    }
   },
   "outputs": [],
   "source": [
    "df.fillna(df.mean(numeric_only=True),inplace=True)"
   ]
  },
  {
   "cell_type": "code",
   "execution_count": 0,
   "metadata": {
    "application/vnd.databricks.v1+cell": {
     "cellMetadata": {
      "byteLimit": 2048000,
      "rowLimit": 10000
     },
     "inputWidgets": {},
     "nuid": "ecf1b0af-444e-4d3b-a929-02ff1d646c92",
     "showTitle": false,
     "tableResultSettingsMap": {},
     "title": ""
    }
   },
   "outputs": [],
   "source": [
    "df.isnull().sum()"
   ]
  },
  {
   "cell_type": "code",
   "execution_count": 0,
   "metadata": {
    "application/vnd.databricks.v1+cell": {
     "cellMetadata": {
      "byteLimit": 2048000,
      "rowLimit": 10000
     },
     "inputWidgets": {},
     "nuid": "da460695-e12e-4003-aec5-6db3f70d43cd",
     "showTitle": false,
     "tableResultSettingsMap": {},
     "title": ""
    }
   },
   "outputs": [],
   "source": [
    "#df['ocean_proximity'].fillna(df['ocean_proximity'].mode()[0],inplace=True)"
   ]
  },
  {
   "cell_type": "markdown",
   "metadata": {
    "application/vnd.databricks.v1+cell": {
     "cellMetadata": {},
     "inputWidgets": {},
     "nuid": "3bd8f460-307b-4a8b-a03e-fa5ac243cbc5",
     "showTitle": false,
     "tableResultSettingsMap": {},
     "title": ""
    }
   },
   "source": [
    "### 2.outlier removal\n"
   ]
  },
  {
   "cell_type": "code",
   "execution_count": 0,
   "metadata": {
    "application/vnd.databricks.v1+cell": {
     "cellMetadata": {},
     "inputWidgets": {},
     "nuid": "ae33503c-8a7a-4788-a048-99f7857132b3",
     "showTitle": false,
     "tableResultSettingsMap": {},
     "title": ""
    }
   },
   "outputs": [],
   "source": [
    "### 🧠 What is Outlier Removal?\n",
    "\n",
    "Outlier removal is the process of identifying and handling values in your dataset that are **unusually high or low** compared to the rest.\n",
    "These **extreme values** can negatively affect the accuracy of your analysis or machine learning models.\n",
    "\n",
    "---\n",
    "\n",
    "### 📌 Common Methods to Remove Outliers\n",
    "\n",
    "---\n",
    "\n",
    "#### 1. **Z-Score Method**\n",
    "\n",
    "* Calculates how far each value is from the mean using **z-scores**.\n",
    "* Any value **more than 3 standard deviations** away from the mean is considered an outlier.\n",
    "* ✅ Best for **normally distributed** data.\n",
    "\n",
    "---\n",
    "\n",
    "#### 2. **IQR (Interquartile Range) Method**\n",
    "\n",
    "* Focuses on the **middle 50%** of the data.\n",
    "* Outliers are values that fall **1.5 times the IQR below Q1 or above Q3**.\n",
    "* ✅ Works well for **non-normal distributions**.\n",
    "\n",
    "---\n",
    "\n",
    "#### 3. **Tukey’s Fences Method**\n",
    "\n",
    "* Similar to the IQR method.\n",
    "* Builds **\"fences\"** using Q1, Q3, and IQR.\n",
    "* Values **outside the fences** are considered outliers.\n",
    "* ✅ Robust for **skewed data**.\n",
    "\n",
    "---\n",
    "\n",
    "#### 4. **Standard Deviation Method**\n",
    "\n",
    "* Computes the **mean and standard deviation**.\n",
    "* Outliers are values **more than 3 standard deviations** from the mean.\n",
    "* ✅ Suitable for **normal distributions**.\n",
    "\n",
    "---\n",
    "\n",
    "#### 5. **Percentile Method**\n",
    "\n",
    "* Removes the **top and bottom X%** of values (e.g., 1st and 99th percentiles).\n",
    "* ✅ Does **not require normal distribution**.\n",
    "* ✅ Great for datasets with **extreme values** on either end.\n",
    "\n",
    "---\n",
    "\n",
    "### 📝 Comparison Table\n",
    "\n",
    "| Method             | Good for Normal Data | Works on Any Data | Easy to Apply |\n",
    "| ------------------ | -------------------- | ----------------- | ------------- |\n",
    "| Z-Score            | ✅ Yes                | ❌ No              | ✅ Yes         |\n",
    "| IQR                | ❌ No                 | ✅ Yes             | ✅ Yes         |\n",
    "| Tukey’s Fences     | ❌ No                 | ✅ Yes             | ✅ Yes         |\n",
    "| Standard Deviation | ✅ Yes                | ❌ No              | ✅ Yes         |\n",
    "| Percentile         | ✅ Yes                | ✅ Yes             | ✅ Yes         |\n",
    "\n",
    "---\n",
    "\n",
    "### 🚀 Pro Tip:\n",
    "\n",
    "There is **no single best method** for all situations.\n",
    "Choose the one that fits **your data’s distribution** and **business need** — or try **a combination**!\n"
   ]
  },
  {
   "cell_type": "code",
   "execution_count": 0,
   "metadata": {
    "application/vnd.databricks.v1+cell": {
     "cellMetadata": {},
     "inputWidgets": {},
     "nuid": "a7822905-7e26-4ccc-9788-1205af914273",
     "showTitle": false,
     "tableResultSettingsMap": {},
     "title": ""
    }
   },
   "outputs": [],
   "source": [
    "IQR"
   ]
  },
  {
   "cell_type": "code",
   "execution_count": 0,
   "metadata": {
    "application/vnd.databricks.v1+cell": {
     "cellMetadata": {
      "byteLimit": 2048000,
      "rowLimit": 10000
     },
     "inputWidgets": {},
     "nuid": "b6198ae9-99c8-45cf-8671-28a776edbb7f",
     "showTitle": false,
     "tableResultSettingsMap": {},
     "title": ""
    }
   },
   "outputs": [],
   "source": [
    "numerical_columns = ['longitude', 'latitude', 'housing_median_age', 'total_rooms',\n",
    "                     'total_bedrooms', 'population', 'households', 'median_income',\n",
    "                     'median_house_value']\n",
    "\n",
    "\n",
    "Q1=df[numerical_columns].quantile(0.25)\n",
    "Q3=df[numerical_columns].quantile(0.75)\n",
    "\n",
    "IQR=Q3-Q1\n",
    "\n",
    "#define lower and upper bound\n",
    "lower_bound=Q1-1.5*IQR\n",
    "upper_bound=Q3+1.5*IQR\n",
    "\n",
    "df_no_outliers = df[~((df[numerical_columns] < lower_bound) | (df[numerical_columns] > upper_bound)).any(axis=1)]"
   ]
  },
  {
   "cell_type": "code",
   "execution_count": 0,
   "metadata": {
    "application/vnd.databricks.v1+cell": {
     "cellMetadata": {
      "byteLimit": 2048000,
      "rowLimit": 10000
     },
     "inputWidgets": {},
     "nuid": "f0127339-6ab7-49e3-96aa-ac79f3b22a65",
     "showTitle": false,
     "tableResultSettingsMap": {},
     "title": ""
    }
   },
   "outputs": [],
   "source": [
    "df.shape"
   ]
  },
  {
   "cell_type": "code",
   "execution_count": 0,
   "metadata": {
    "application/vnd.databricks.v1+cell": {
     "cellMetadata": {
      "byteLimit": 2048000,
      "rowLimit": 10000
     },
     "inputWidgets": {},
     "nuid": "a6f8079b-23b5-4c05-a396-77d83e46d3e0",
     "showTitle": false,
     "tableResultSettingsMap": {},
     "title": ""
    }
   },
   "outputs": [],
   "source": [
    "df_no_outliers.shape"
   ]
  },
  {
   "cell_type": "code",
   "execution_count": 0,
   "metadata": {
    "application/vnd.databricks.v1+cell": {
     "cellMetadata": {
      "byteLimit": 2048000,
      "rowLimit": 10000
     },
     "inputWidgets": {},
     "nuid": "4afc8685-4174-48be-8fbd-f35229cf3e84",
     "showTitle": false,
     "tableResultSettingsMap": {},
     "title": ""
    }
   },
   "outputs": [],
   "source": [
    "outlier_removed_row=len(df)-len(df_no_outliers)\n",
    "outlier_removed_row"
   ]
  },
  {
   "cell_type": "code",
   "execution_count": 0,
   "metadata": {
    "application/vnd.databricks.v1+cell": {
     "cellMetadata": {
      "byteLimit": 2048000,
      "rowLimit": 10000
     },
     "inputWidgets": {},
     "nuid": "3e9edc3b-c5c2-4592-bef3-92d061c1c14c",
     "showTitle": false,
     "tableResultSettingsMap": {},
     "title": ""
    }
   },
   "outputs": [],
   "source": [
    "from scipy import stats\n",
    "\n",
    "# Define the numerical columns\n",
    "numerical_columns = ['longitude', 'latitude', 'housing_median_age', 'total_rooms',\n",
    "                     'total_bedrooms', 'population', 'households', 'median_income',\n",
    "                     'median_house_value']\n",
    "\n",
    "# Calculate z-scores for numerical columns\n",
    "z_scores = stats.zscore(df[numerical_columns])\n",
    "\n",
    "# Define the threshold for outlier detection\n",
    "threshold = 3\n",
    "\n",
    "# Filter out the outliers from the DataFrame\n",
    "df_no_outliers = df[(z_scores < threshold).all(axis=1)]"
   ]
  },
  {
   "cell_type": "code",
   "execution_count": 0,
   "metadata": {
    "application/vnd.databricks.v1+cell": {
     "cellMetadata": {
      "byteLimit": 2048000,
      "rowLimit": 10000
     },
     "inputWidgets": {},
     "nuid": "8039fd16-fbba-428a-9957-1bdd149a3bfe",
     "showTitle": false,
     "tableResultSettingsMap": {},
     "title": ""
    }
   },
   "outputs": [],
   "source": [
    "df_no_outliers.shape"
   ]
  },
  {
   "cell_type": "code",
   "execution_count": 0,
   "metadata": {
    "application/vnd.databricks.v1+cell": {
     "cellMetadata": {
      "byteLimit": 2048000,
      "rowLimit": 10000
     },
     "inputWidgets": {},
     "nuid": "dc058d52-982c-4620-b6dc-1a1cd5f2ea9d",
     "showTitle": false,
     "tableResultSettingsMap": {},
     "title": ""
    }
   },
   "outputs": [],
   "source": [
    "outlier_removed_row=len(df)-len(df_no_outliers)\n",
    "outlier_removed_row"
   ]
  },
  {
   "cell_type": "markdown",
   "metadata": {
    "application/vnd.databricks.v1+cell": {
     "cellMetadata": {},
     "inputWidgets": {},
     "nuid": "eb90cc13-22f7-4019-9a8b-cabe001f3181",
     "showTitle": false,
     "tableResultSettingsMap": {},
     "title": ""
    }
   },
   "source": [
    "### 3. Feature Creation"
   ]
  },
  {
   "cell_type": "code",
   "execution_count": 0,
   "metadata": {
    "application/vnd.databricks.v1+cell": {
     "cellMetadata": {
      "byteLimit": 2048000,
      "rowLimit": 10000
     },
     "inputWidgets": {},
     "nuid": "e687c806-e8f5-4a76-be4a-c09b0d8f1e87",
     "showTitle": false,
     "tableResultSettingsMap": {},
     "title": ""
    }
   },
   "outputs": [],
   "source": [
    "df.head()"
   ]
  },
  {
   "cell_type": "code",
   "execution_count": 0,
   "metadata": {
    "application/vnd.databricks.v1+cell": {
     "cellMetadata": {
      "byteLimit": 2048000,
      "rowLimit": 10000
     },
     "inputWidgets": {},
     "nuid": "90d766f6-2694-42d0-99af-ce44d282b2b7",
     "showTitle": false,
     "tableResultSettingsMap": {},
     "title": ""
    }
   },
   "outputs": [],
   "source": [
    "df[\"housing_median_age_days\"]=df[\"housing_median_age\"]*365"
   ]
  },
  {
   "cell_type": "code",
   "execution_count": 0,
   "metadata": {
    "application/vnd.databricks.v1+cell": {
     "cellMetadata": {
      "byteLimit": 2048000,
      "rowLimit": 10000
     },
     "inputWidgets": {},
     "nuid": "4bda8fed-712e-4116-903c-bd8ec4b71544",
     "showTitle": false,
     "tableResultSettingsMap": {},
     "title": ""
    }
   },
   "outputs": [],
   "source": [
    "df.head()"
   ]
  },
  {
   "cell_type": "markdown",
   "metadata": {
    "application/vnd.databricks.v1+cell": {
     "cellMetadata": {},
     "inputWidgets": {},
     "nuid": "e69e7ed4-098f-4919-88ab-16b476129df9",
     "showTitle": false,
     "tableResultSettingsMap": {},
     "title": ""
    }
   },
   "source": [
    "### 4. One hot encoding( Feature Encoding)"
   ]
  },
  {
   "cell_type": "code",
   "execution_count": 0,
   "metadata": {
    "application/vnd.databricks.v1+cell": {
     "cellMetadata": {
      "byteLimit": 2048000,
      "rowLimit": 10000
     },
     "collapsed": true,
     "inputWidgets": {},
     "nuid": "8d72e164-b6c4-467a-a907-f2c19f9f0d45",
     "showTitle": false,
     "tableResultSettingsMap": {},
     "title": ""
    }
   },
   "outputs": [],
   "source": [
    "df_encoded = pd.get_dummies(df, columns=['ocean_proximity'])"
   ]
  }
 ],
 "metadata": {
  "application/vnd.databricks.v1+notebook": {
   "computePreferences": null,
   "dashboards": [],
   "environmentMetadata": {
    "base_environment": "",
    "environment_version": "2"
   },
   "inputWidgetPreferences": null,
   "language": "python",
   "notebookMetadata": {
    "pythonIndentUnit": 4
   },
   "notebookName": "Feature Engineering",
   "widgets": {}
  },
  "language_info": {
   "name": "python"
  }
 },
 "nbformat": 4,
 "nbformat_minor": 0
}
