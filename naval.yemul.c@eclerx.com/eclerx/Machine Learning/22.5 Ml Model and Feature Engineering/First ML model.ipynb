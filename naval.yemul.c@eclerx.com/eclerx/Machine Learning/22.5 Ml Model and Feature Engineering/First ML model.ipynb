{
 "cells": [
  {
   "cell_type": "code",
   "execution_count": 0,
   "metadata": {
    "application/vnd.databricks.v1+cell": {
     "cellMetadata": {
      "byteLimit": 2048000,
      "rowLimit": 10000
     },
     "inputWidgets": {},
     "nuid": "cc0999b1-1f9a-46f9-8310-40ec4b52b860",
     "showTitle": false,
     "tableResultSettingsMap": {},
     "title": ""
    }
   },
   "outputs": [],
   "source": [
    "df=spark.read.csv(\"/Volumes/ml/default/raw/train.csv\",header=True)"
   ]
  },
  {
   "cell_type": "code",
   "execution_count": 0,
   "metadata": {
    "application/vnd.databricks.v1+cell": {
     "cellMetadata": {
      "byteLimit": 2048000,
      "rowLimit": 10000
     },
     "inputWidgets": {},
     "nuid": "3fea35a2-1203-477b-b89f-da646553f945",
     "showTitle": false,
     "tableResultSettingsMap": {},
     "title": ""
    }
   },
   "outputs": [],
   "source": [
    "display(df)"
   ]
  },
  {
   "cell_type": "code",
   "execution_count": 0,
   "metadata": {
    "application/vnd.databricks.v1+cell": {
     "cellMetadata": {
      "byteLimit": 2048000,
      "rowLimit": 10000
     },
     "inputWidgets": {},
     "nuid": "35a40968-26f9-4bef-9b8e-1d63c1ce20b6",
     "showTitle": false,
     "tableResultSettingsMap": {},
     "title": ""
    }
   },
   "outputs": [],
   "source": [
    "import pandas as pd\n",
    "from sklearn.metrics import mean_absolute_error\n",
    "from sklearn.model_selection import train_test_split\n",
    "from sklearn.tree import DecisionTreeRegressor\n",
    "\n",
    "file_path=\"/Volumes/ml/default/raw/train.csv\"\n",
    "\n",
    "\n",
    "home_data=pd.read_csv(file_path)\n",
    "\n",
    "y=home_data.SalePrice\n",
    "\n",
    "# create x\n",
    "features=['LotArea', 'YearBuilt', '1stFlrSF', '2ndFlrSF', 'FullBath', 'BedroomAbvGr', 'TotRmsAbvGrd']\n",
    "X=home_data[features]\n",
    "\n",
    "#Split into validation and training data\n",
    "train_X,val_X,train_y,val_y=train_test_split(X,y,random_state=1)\n",
    "\n",
    "model=DecisionTreeRegressor(random_state=1)\n",
    "\n",
    "model.fit(train_X,train_y)\n",
    "\n",
    "preds_val=model.predict(val_X)\n",
    "val_mae=mean_absolute_error(val_y,preds_val)\n",
    "print(\"Validation MAE for model: {:,.0f}\".format(val_mae))"
   ]
  },
  {
   "cell_type": "code",
   "execution_count": 0,
   "metadata": {
    "application/vnd.databricks.v1+cell": {
     "cellMetadata": {
      "byteLimit": 2048000,
      "rowLimit": 10000
     },
     "inputWidgets": {},
     "nuid": "0248bf23-d026-4f04-8844-68541a2c49d4",
     "showTitle": false,
     "tableResultSettingsMap": {},
     "title": ""
    }
   },
   "outputs": [],
   "source": [
    "model=DecisionTreeRegressor(random_state=1,max_leaf_nodes=100)\n",
    "model.fit(train_X,train_y)                            \n",
    "preds_val=model.predict(val_X)\n",
    "val_mae=mean_absolute_error(val_y,preds_val)\n",
    "print(\"Validation MAE for model: {:,.0f}\".format(val_mae))                                       "
   ]
  },
  {
   "cell_type": "code",
   "execution_count": 0,
   "metadata": {
    "application/vnd.databricks.v1+cell": {
     "cellMetadata": {
      "byteLimit": 2048000,
      "rowLimit": 10000
     },
     "inputWidgets": {},
     "nuid": "db6ffb1d-4383-44e1-beff-4ec716103e42",
     "showTitle": false,
     "tableResultSettingsMap": {},
     "title": ""
    }
   },
   "outputs": [],
   "source": [
    "from sklearn.ensemble import RandomForestRegressor\n",
    "\n",
    "model=RandomForestRegressor(random_state=1)\n",
    "model.fit(train_X,train_y)\n",
    "preds_val=model.predict(val_X)\n",
    "val_mae=mean_absolute_error(val_y,preds_val)\n",
    "print(\"Validation MAE for model: {}\".format(val_mae))"
   ]
  }
 ],
 "metadata": {
  "application/vnd.databricks.v1+notebook": {
   "computePreferences": null,
   "dashboards": [],
   "environmentMetadata": {
    "base_environment": "",
    "environment_version": "2"
   },
   "inputWidgetPreferences": null,
   "language": "python",
   "notebookMetadata": {
    "pythonIndentUnit": 4
   },
   "notebookName": "First ML model",
   "widgets": {}
  },
  "language_info": {
   "name": "python"
  }
 },
 "nbformat": 4,
 "nbformat_minor": 0
}
